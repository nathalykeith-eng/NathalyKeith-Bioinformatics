{
 "cells": [
  {
   "cell_type": "markdown",
   "id": "342646c9-1b9f-4a1b-9fde-45f22b7161e7",
   "metadata": {},
   "source": [
    "# RNA-seq Analysis\n",
    "Author: Nathaly Keith\n",
    "\n",
    "Objective: Provide a concise pipeline for RNA-seq counts: QC, normalization, PCA and basic differential testing."
   ]
  },
  {
   "cell_type": "code",
   "execution_count": 1,
   "id": "1a1078cf-d9bb-433f-b741-fb7f263d2209",
   "metadata": {},
   "outputs": [],
   "source": [
    "import pandas as pd\n",
    "import numpy as np\n",
    "import matplotlib.pyplot as plt\n",
    "import seaborn as sns\n",
    "from sklearn.decomposition import PCA\n",
    "import statsmodels.api as sm\n",
    "import statsmodels.formula.api as smf\n",
    "\n",
    "sns.set(style='whitegrid', context='notebook')\n",
    "%matplotlib inline"
   ]
  },
  {
   "cell_type": "code",
   "execution_count": 2,
   "id": "0885c148-f9ab-40f5-8c4e-7d3dad8176a8",
   "metadata": {},
   "outputs": [
    {
     "data": {
      "text/html": [
       "<div>\n",
       "<style scoped>\n",
       "    .dataframe tbody tr th:only-of-type {\n",
       "        vertical-align: middle;\n",
       "    }\n",
       "\n",
       "    .dataframe tbody tr th {\n",
       "        vertical-align: top;\n",
       "    }\n",
       "\n",
       "    .dataframe thead th {\n",
       "        text-align: right;\n",
       "    }\n",
       "</style>\n",
       "<table border=\"1\" class=\"dataframe\">\n",
       "  <thead>\n",
       "    <tr style=\"text-align: right;\">\n",
       "      <th></th>\n",
       "      <th>Ctrl1</th>\n",
       "      <th>Ctrl2</th>\n",
       "      <th>Ctrl3</th>\n",
       "      <th>Treat1</th>\n",
       "      <th>Treat2</th>\n",
       "    </tr>\n",
       "  </thead>\n",
       "  <tbody>\n",
       "    <tr>\n",
       "      <th>Gene1</th>\n",
       "      <td>48</td>\n",
       "      <td>41</td>\n",
       "      <td>43</td>\n",
       "      <td>70</td>\n",
       "      <td>66</td>\n",
       "    </tr>\n",
       "    <tr>\n",
       "      <th>Gene2</th>\n",
       "      <td>41</td>\n",
       "      <td>46</td>\n",
       "      <td>38</td>\n",
       "      <td>55</td>\n",
       "      <td>85</td>\n",
       "    </tr>\n",
       "    <tr>\n",
       "      <th>Gene3</th>\n",
       "      <td>54</td>\n",
       "      <td>45</td>\n",
       "      <td>39</td>\n",
       "      <td>79</td>\n",
       "      <td>65</td>\n",
       "    </tr>\n",
       "    <tr>\n",
       "      <th>Gene4</th>\n",
       "      <td>50</td>\n",
       "      <td>51</td>\n",
       "      <td>52</td>\n",
       "      <td>60</td>\n",
       "      <td>71</td>\n",
       "    </tr>\n",
       "    <tr>\n",
       "      <th>Gene5</th>\n",
       "      <td>53</td>\n",
       "      <td>65</td>\n",
       "      <td>61</td>\n",
       "      <td>58</td>\n",
       "      <td>68</td>\n",
       "    </tr>\n",
       "  </tbody>\n",
       "</table>\n",
       "</div>"
      ],
      "text/plain": [
       "       Ctrl1  Ctrl2  Ctrl3  Treat1  Treat2\n",
       "Gene1     48     41     43      70      66\n",
       "Gene2     41     46     38      55      85\n",
       "Gene3     54     45     39      79      65\n",
       "Gene4     50     51     52      60      71\n",
       "Gene5     53     65     61      58      68"
      ]
     },
     "execution_count": 2,
     "metadata": {},
     "output_type": "execute_result"
    }
   ],
   "source": [
    "# Synthetic count matrix: genes x samples\n",
    "np.random.seed(1)\n",
    "genes = [f'Gene{i}' for i in range(1,201)]  # 200 genes\n",
    "samples = ['Ctrl1','Ctrl2','Ctrl3','Treat1','Treat2','Treat3']\n",
    "# baseline expressions and a subtle treatment effect for first 10 genes\n",
    "base = np.random.poisson(lam=50, size=(len(genes), len(samples)))\n",
    "for g in range(10):\n",
    "    base[g,3:] = base[g,3:] + np.random.poisson(lam=20, size=3)  # increase in treatment\n",
    "counts = pd.DataFrame(base, index=genes, columns=samples)\n",
    "counts.iloc[:5,:5]"
   ]
  },
  {
   "cell_type": "markdown",
   "id": "42045217-0071-468f-95bf-8cd788ae2008",
   "metadata": {},
   "source": [
    "## Normalization (TPM-like, simple RPKM approach for demonstration)\n",
    "We will perform a simple library-size normalization and log-transform for visualization."
   ]
  },
  {
   "cell_type": "code",
   "execution_count": 3,
   "id": "45e9e11e-e509-4eb3-ae10-c5bd64ff131d",
   "metadata": {},
   "outputs": [
    {
     "data": {
      "text/html": [
       "<div>\n",
       "<style scoped>\n",
       "    .dataframe tbody tr th:only-of-type {\n",
       "        vertical-align: middle;\n",
       "    }\n",
       "\n",
       "    .dataframe tbody tr th {\n",
       "        vertical-align: top;\n",
       "    }\n",
       "\n",
       "    .dataframe thead th {\n",
       "        text-align: right;\n",
       "    }\n",
       "</style>\n",
       "<table border=\"1\" class=\"dataframe\">\n",
       "  <thead>\n",
       "    <tr style=\"text-align: right;\">\n",
       "      <th></th>\n",
       "      <th>Ctrl1</th>\n",
       "      <th>Ctrl2</th>\n",
       "      <th>Ctrl3</th>\n",
       "      <th>Treat1</th>\n",
       "      <th>Treat2</th>\n",
       "    </tr>\n",
       "  </thead>\n",
       "  <tbody>\n",
       "    <tr>\n",
       "      <th>Gene1</th>\n",
       "      <td>12.238525</td>\n",
       "      <td>12.004503</td>\n",
       "      <td>12.059679</td>\n",
       "      <td>12.752864</td>\n",
       "      <td>12.679983</td>\n",
       "    </tr>\n",
       "    <tr>\n",
       "      <th>Gene2</th>\n",
       "      <td>12.011166</td>\n",
       "      <td>12.170475</td>\n",
       "      <td>11.881386</td>\n",
       "      <td>12.404998</td>\n",
       "      <td>13.044931</td>\n",
       "    </tr>\n",
       "    <tr>\n",
       "      <th>Gene3</th>\n",
       "      <td>12.408417</td>\n",
       "      <td>12.138773</td>\n",
       "      <td>11.918851</td>\n",
       "      <td>12.927338</td>\n",
       "      <td>12.657960</td>\n",
       "    </tr>\n",
       "    <tr>\n",
       "      <th>Gene4</th>\n",
       "      <td>12.297407</td>\n",
       "      <td>12.319308</td>\n",
       "      <td>12.333796</td>\n",
       "      <td>12.530506</td>\n",
       "      <td>12.785321</td>\n",
       "    </tr>\n",
       "    <tr>\n",
       "      <th>Gene5</th>\n",
       "      <td>12.381455</td>\n",
       "      <td>12.669189</td>\n",
       "      <td>12.564052</td>\n",
       "      <td>12.481605</td>\n",
       "      <td>12.723046</td>\n",
       "    </tr>\n",
       "  </tbody>\n",
       "</table>\n",
       "</div>"
      ],
      "text/plain": [
       "           Ctrl1      Ctrl2      Ctrl3     Treat1     Treat2\n",
       "Gene1  12.238525  12.004503  12.059679  12.752864  12.679983\n",
       "Gene2  12.011166  12.170475  11.881386  12.404998  13.044931\n",
       "Gene3  12.408417  12.138773  11.918851  12.927338  12.657960\n",
       "Gene4  12.297407  12.319308  12.333796  12.530506  12.785321\n",
       "Gene5  12.381455  12.669189  12.564052  12.481605  12.723046"
      ]
     },
     "execution_count": 3,
     "metadata": {},
     "output_type": "execute_result"
    }
   ],
   "source": [
    "# library size normalization (counts per million)\n",
    "lib_sizes = counts.sum(axis=0)\n",
    "cpm = counts.div(lib_sizes, axis=1) * 1e6\n",
    "log_cpm = np.log2(cpm + 1)\n",
    "log_cpm.iloc[:5,:5]"
   ]
  },
  {
   "cell_type": "code",
   "execution_count": 4,
   "id": "2ea4f72e-3b4f-4a0b-8353-f5dbe744e6af",
   "metadata": {},
   "outputs": [
    {
     "data": {
      "image/png": "[encoded data removed]",
      "text/plain": [
       "<Figure size 600x500 with 1 Axes>"
      ]
     },
     "metadata": {},
     "output_type": "display_data"
    }
   ],
   "source": [
    "pca = PCA(n_components=2)\n",
    "pcs = pca.fit_transform(log_cpm.T)  # transpose -> samples x genes\n",
    "pc_df = pd.DataFrame(pcs, index=log_cpm.columns, columns=['PC1','PC2'])\n",
    "pc_df['Group'] = ['Control']*3 + ['Treatment']*3\n",
    "\n",
    "plt.figure(figsize=(6,5))\n",
    "sns.scatterplot(x='PC1', y='PC2', hue='Group', data=pc_df, s=100)\n",
    "plt.title('PCA of samples (log-CPM)')\n",
    "for i, txt in enumerate(pc_df.index):\n",
    "    plt.annotate(txt, (pc_df['PC1'].iloc[i]+0.1, pc_df['PC2'].iloc[i]+0.1))\n",
    "plt.tight_layout()"
   ]
  },
  {
   "cell_type": "markdown",
   "id": "440d337f-c111-4951-888e-76fa580af7a5",
   "metadata": {},
   "source": [
    "## Quick differential analysis\n",
    "A fully correct RNA-seq DE requires tools like DESeq2/edgeR (R). Here we illustrate a simple linear model per gene as a didactic example."
   ]
  },
  {
   "cell_type": "code",
   "execution_count": 5,
   "id": "b31ce37a-b360-47a7-a2cb-159b01259712",
   "metadata": {},
   "outputs": [
    {
     "data": {
      "text/html": [
       "<div>\n",
       "<style scoped>\n",
       "    .dataframe tbody tr th:only-of-type {\n",
       "        vertical-align: middle;\n",
       "    }\n",
       "\n",
       "    .dataframe tbody tr th {\n",
       "        vertical-align: top;\n",
       "    }\n",
       "\n",
       "    .dataframe thead th {\n",
       "        text-align: right;\n",
       "    }\n",
       "</style>\n",
       "<table border=\"1\" class=\"dataframe\">\n",
       "  <thead>\n",
       "    <tr style=\"text-align: right;\">\n",
       "      <th></th>\n",
       "      <th>log2FC</th>\n",
       "      <th>pvalue</th>\n",
       "      <th>adj_pvalue</th>\n",
       "    </tr>\n",
       "    <tr>\n",
       "      <th>gene</th>\n",
       "      <th></th>\n",
       "      <th></th>\n",
       "      <th></th>\n",
       "    </tr>\n",
       "  </thead>\n",
       "  <tbody>\n",
       "    <tr>\n",
       "      <th>Gene1</th>\n",
       "      <td>0.624222</td>\n",
       "      <td>0.001093</td>\n",
       "      <td>0.202951</td>\n",
       "    </tr>\n",
       "    <tr>\n",
       "      <th>Gene90</th>\n",
       "      <td>-0.297025</td>\n",
       "      <td>0.002030</td>\n",
       "      <td>0.202951</td>\n",
       "    </tr>\n",
       "    <tr>\n",
       "      <th>Gene29</th>\n",
       "      <td>0.238686</td>\n",
       "      <td>0.003938</td>\n",
       "      <td>0.262523</td>\n",
       "    </tr>\n",
       "    <tr>\n",
       "      <th>Gene31</th>\n",
       "      <td>0.418824</td>\n",
       "      <td>0.008511</td>\n",
       "      <td>0.340439</td>\n",
       "    </tr>\n",
       "    <tr>\n",
       "      <th>Gene49</th>\n",
       "      <td>0.288002</td>\n",
       "      <td>0.007148</td>\n",
       "      <td>0.340439</td>\n",
       "    </tr>\n",
       "    <tr>\n",
       "      <th>Gene27</th>\n",
       "      <td>-0.274696</td>\n",
       "      <td>0.012048</td>\n",
       "      <td>0.363431</td>\n",
       "    </tr>\n",
       "    <tr>\n",
       "      <th>Gene6</th>\n",
       "      <td>0.256833</td>\n",
       "      <td>0.012720</td>\n",
       "      <td>0.363431</td>\n",
       "    </tr>\n",
       "    <tr>\n",
       "      <th>Gene107</th>\n",
       "      <td>0.402527</td>\n",
       "      <td>0.015395</td>\n",
       "      <td>0.384875</td>\n",
       "    </tr>\n",
       "    <tr>\n",
       "      <th>Gene10</th>\n",
       "      <td>0.607411</td>\n",
       "      <td>0.030561</td>\n",
       "      <td>0.402600</td>\n",
       "    </tr>\n",
       "    <tr>\n",
       "      <th>Gene2</th>\n",
       "      <td>0.815709</td>\n",
       "      <td>0.024379</td>\n",
       "      <td>0.402600</td>\n",
       "    </tr>\n",
       "  </tbody>\n",
       "</table>\n",
       "</div>"
      ],
      "text/plain": [
       "           log2FC    pvalue  adj_pvalue\n",
       "gene                                   \n",
       "Gene1    0.624222  0.001093    0.202951\n",
       "Gene90  -0.297025  0.002030    0.202951\n",
       "Gene29   0.238686  0.003938    0.262523\n",
       "Gene31   0.418824  0.008511    0.340439\n",
       "Gene49   0.288002  0.007148    0.340439\n",
       "Gene27  -0.274696  0.012048    0.363431\n",
       "Gene6    0.256833  0.012720    0.363431\n",
       "Gene107  0.402527  0.015395    0.384875\n",
       "Gene10   0.607411  0.030561    0.402600\n",
       "Gene2    0.815709  0.024379    0.402600"
      ]
     },
     "execution_count": 5,
     "metadata": {},
     "output_type": "execute_result"
    }
   ],
   "source": [
    "# build a sample metadata table\n",
    "meta = pd.DataFrame({\n",
    "    'sample': log_cpm.columns,\n",
    "    'group': ['Control','Control','Control','Treatment','Treatment','Treatment']\n",
    "}).set_index('sample')\n",
    "\n",
    "# fit a linear model gene-by-gene: expression ~ group\n",
    "results = []\n",
    "for gene in log_cpm.index:\n",
    "    df = pd.DataFrame({\n",
    "        'expr': log_cpm.loc[gene],\n",
    "        'group': meta['group']\n",
    "    })\n",
    "    model = smf.ols('expr ~ C(group)', data=df).fit()\n",
    "    pval = model.pvalues.get('C(group)[T.Treatment]', np.nan)\n",
    "    fold = df[df['group']=='Treatment']['expr'].mean() - df[df['group']=='Control']['expr'].mean()\n",
    "    results.append((gene, fold, pval))\n",
    "res_df = pd.DataFrame(results, columns=['gene','log2FC','pvalue']).set_index('gene')\n",
    "res_df['adj_pvalue'] = sm.stats.multipletests(res_df['pvalue'].fillna(1), method='fdr_bh')[1]\n",
    "res_df.sort_values('adj_pvalue').head(10)"
   ]
  },
  {
   "cell_type": "code",
   "execution_count": 6,
   "id": "405d9766-d160-4476-8d4d-8d432eac5837",
   "metadata": {},
   "outputs": [
    {
     "data": {
      "image/png": "[encoded data removed]",
      "text/plain": [
       "<Figure size 800x500 with 1 Axes>"
      ]
     },
     "metadata": {},
     "output_type": "display_data"
    }
   ],
   "source": [
    "plt.figure(figsize=(8,5))\n",
    "sns.scatterplot(x='log2FC', y=-np.log10(res_df['adj_pvalue']), data=res_df, s=20)\n",
    "plt.xlabel('log2 Fold Change (Treatment - Control)')\n",
    "plt.ylabel('-log10(adj p-value)')\n",
    "plt.title('Volcano-style plot (toy example)')\n",
    "plt.axhline(-np.log10(0.05), color='red', linestyle='--')\n",
    "plt.tight_layout()"
   ]
  },
  {
   "cell_type": "markdown",
   "id": "3ef52098-6fa8-4d76-93b2-23b735037ffd",
   "metadata": {},
   "source": [
    "## Notes\n",
    "- This notebook is educational: for real differential expression analysis use specialized packages (DESeq2 or edgeR).\n",
    "- Replace synthetic data with your counts CSV: `pd.read_csv(\"counts.csv\", index_col=0)`"
   ]
  }
 ],
 "metadata": {
  "kernelspec": {
   "display_name": "Python 3 (ipykernel)",
   "language": "python",
   "name": "python3"
  },
  "language_info": {
   "codemirror_mode": {
    "name": "ipython",
    "version": 3
   },
   "file_extension": ".py",
   "mimetype": "text/x-python",
   "name": "python",
   "nbconvert_exporter": "python",
   "pygments_lexer": "ipython3",
   "version": "3.13.5"
  }
 },
 "nbformat": 4,
 "nbformat_minor": 5
}
