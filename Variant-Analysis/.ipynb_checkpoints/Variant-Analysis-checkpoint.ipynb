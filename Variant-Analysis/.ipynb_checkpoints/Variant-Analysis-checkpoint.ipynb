{
 "cells": [
  {
   "cell_type": "markdown",
   "id": "68c2fa3a-fa7b-4d20-bb82-00430bf7988e",
   "metadata": {},
   "source": [
    "# Variant Analysis\n",
    "Author: Nathaly Keith\n",
    "\n",
    "Objective: Parse a VCF-like file, filter variants and produce summaries and plots by chromosome."
   ]
  },
  {
   "cell_type": "code",
   "execution_count": 1,
   "id": "562dbede-7ee5-473c-b28c-f92b688d60cb",
   "metadata": {},
   "outputs": [],
   "source": [
    "import pandas as pd\n",
    "import numpy as np\n",
    "import matplotlib.pyplot as plt\n",
    "import seaborn as sns\n",
    "sns.set(style='whitegrid')\n",
    "%matplotlib inline"
   ]
  },
  {
   "cell_type": "code",
   "execution_count": 2,
   "id": "37d3eda8-a9ca-49ff-a040-b16ba3310007",
   "metadata": {
    "scrolled": true
   },
   "outputs": [
    {
     "data": {
      "text/html": [
       "<div>\n",
       "<style scoped>\n",
       "    .dataframe tbody tr th:only-of-type {\n",
       "        vertical-align: middle;\n",
       "    }\n",
       "\n",
       "    .dataframe tbody tr th {\n",
       "        vertical-align: top;\n",
       "    }\n",
       "\n",
       "    .dataframe thead th {\n",
       "        text-align: right;\n",
       "    }\n",
       "</style>\n",
       "<table border=\"1\" class=\"dataframe\">\n",
       "  <thead>\n",
       "    <tr style=\"text-align: right;\">\n",
       "      <th></th>\n",
       "      <th>#CHROM</th>\n",
       "      <th>POS</th>\n",
       "      <th>ID</th>\n",
       "      <th>REF</th>\n",
       "      <th>ALT</th>\n",
       "      <th>QUAL</th>\n",
       "      <th>FILTER</th>\n",
       "      <th>INFO</th>\n",
       "      <th>AF</th>\n",
       "    </tr>\n",
       "  </thead>\n",
       "  <tbody>\n",
       "    <tr>\n",
       "      <th>0</th>\n",
       "      <td>1</td>\n",
       "      <td>12345</td>\n",
       "      <td>.</td>\n",
       "      <td>A</td>\n",
       "      <td>G</td>\n",
       "      <td>60</td>\n",
       "      <td>PASS</td>\n",
       "      <td>AF=0.1</td>\n",
       "      <td>0.10</td>\n",
       "    </tr>\n",
       "    <tr>\n",
       "      <th>1</th>\n",
       "      <td>1</td>\n",
       "      <td>67890</td>\n",
       "      <td>.</td>\n",
       "      <td>C</td>\n",
       "      <td>T</td>\n",
       "      <td>50</td>\n",
       "      <td>PASS</td>\n",
       "      <td>AF=0.3</td>\n",
       "      <td>0.30</td>\n",
       "    </tr>\n",
       "    <tr>\n",
       "      <th>2</th>\n",
       "      <td>2</td>\n",
       "      <td>23456</td>\n",
       "      <td>.</td>\n",
       "      <td>G</td>\n",
       "      <td>A</td>\n",
       "      <td>20</td>\n",
       "      <td>q10</td>\n",
       "      <td>AF=0.05</td>\n",
       "      <td>0.05</td>\n",
       "    </tr>\n",
       "    <tr>\n",
       "      <th>3</th>\n",
       "      <td>2</td>\n",
       "      <td>78901</td>\n",
       "      <td>.</td>\n",
       "      <td>T</td>\n",
       "      <td>C</td>\n",
       "      <td>80</td>\n",
       "      <td>PASS</td>\n",
       "      <td>AF=0.2</td>\n",
       "      <td>0.20</td>\n",
       "    </tr>\n",
       "    <tr>\n",
       "      <th>4</th>\n",
       "      <td>3</td>\n",
       "      <td>34567</td>\n",
       "      <td>.</td>\n",
       "      <td>A</td>\n",
       "      <td>C</td>\n",
       "      <td>10</td>\n",
       "      <td>q10</td>\n",
       "      <td>AF=0.15</td>\n",
       "      <td>0.15</td>\n",
       "    </tr>\n",
       "    <tr>\n",
       "      <th>5</th>\n",
       "      <td>3</td>\n",
       "      <td>89012</td>\n",
       "      <td>.</td>\n",
       "      <td>C</td>\n",
       "      <td>G</td>\n",
       "      <td>70</td>\n",
       "      <td>PASS</td>\n",
       "      <td>AF=0.25</td>\n",
       "      <td>0.25</td>\n",
       "    </tr>\n",
       "  </tbody>\n",
       "</table>\n",
       "</div>"
      ],
      "text/plain": [
       "   #CHROM    POS ID REF ALT  QUAL FILTER     INFO    AF\n",
       "0       1  12345  .   A   G    60   PASS   AF=0.1  0.10\n",
       "1       1  67890  .   C   T    50   PASS   AF=0.3  0.30\n",
       "2       2  23456  .   G   A    20    q10  AF=0.05  0.05\n",
       "3       2  78901  .   T   C    80   PASS   AF=0.2  0.20\n",
       "4       3  34567  .   A   C    10    q10  AF=0.15  0.15\n",
       "5       3  89012  .   C   G    70   PASS  AF=0.25  0.25"
      ]
     },
     "execution_count": 2,
     "metadata": {},
     "output_type": "execute_result"
    }
   ],
   "source": [
    "from io import StringIO\n",
    "import pandas as pd\n",
    "\n",
    "vcf_data = \"\"\"#CHROM\\tPOS\\tID\\tREF\\tALT\\tQUAL\\tFILTER\\tINFO\n",
    "1\\t12345\\t.\\tA\\tG\\t60\\tPASS\\tAF=0.1\n",
    "1\\t67890\\t.\\tC\\tT\\t50\\tPASS\\tAF=0.3\n",
    "2\\t23456\\t.\\tG\\tA\\t20\\tq10\\tAF=0.05\n",
    "2\\t78901\\t.\\tT\\tC\\t80\\tPASS\\tAF=0.2\n",
    "3\\t34567\\t.\\tA\\tC\\t10\\tq10\\tAF=0.15\n",
    "3\\t89012\\t.\\tC\\tG\\t70\\tPASS\\tAF=0.25\n",
    "\"\"\"\n",
    "\n",
    "vcf_df = pd.read_csv(StringIO(vcf_data), sep='\\t')  # sem comment='#'\n",
    "vcf_df['AF'] = vcf_df['INFO'].str.extract(r'AF=([0-9.]+)').astype(float)\n",
    "vcf_df"
   ]
  },
  {
   "cell_type": "markdown",
   "id": "015ca7da-0113-41bc-b1d1-b7c27774d67f",
   "metadata": {},
   "source": [
    "## Filtering strategy\n",
    "We will filter by PASS in FILTER column, QUAL >= 30 and AF >= 0.05"
   ]
  },
  {
   "cell_type": "code",
   "execution_count": 3,
   "id": "8169932b-fa1f-4641-93e7-14607a950308",
   "metadata": {},
   "outputs": [
    {
     "data": {
      "text/html": [
       "<div>\n",
       "<style scoped>\n",
       "    .dataframe tbody tr th:only-of-type {\n",
       "        vertical-align: middle;\n",
       "    }\n",
       "\n",
       "    .dataframe tbody tr th {\n",
       "        vertical-align: top;\n",
       "    }\n",
       "\n",
       "    .dataframe thead th {\n",
       "        text-align: right;\n",
       "    }\n",
       "</style>\n",
       "<table border=\"1\" class=\"dataframe\">\n",
       "  <thead>\n",
       "    <tr style=\"text-align: right;\">\n",
       "      <th></th>\n",
       "      <th>#CHROM</th>\n",
       "      <th>POS</th>\n",
       "      <th>ID</th>\n",
       "      <th>REF</th>\n",
       "      <th>ALT</th>\n",
       "      <th>QUAL</th>\n",
       "      <th>FILTER</th>\n",
       "      <th>INFO</th>\n",
       "      <th>AF</th>\n",
       "    </tr>\n",
       "  </thead>\n",
       "  <tbody>\n",
       "    <tr>\n",
       "      <th>0</th>\n",
       "      <td>1</td>\n",
       "      <td>12345</td>\n",
       "      <td>.</td>\n",
       "      <td>A</td>\n",
       "      <td>G</td>\n",
       "      <td>60</td>\n",
       "      <td>PASS</td>\n",
       "      <td>AF=0.1</td>\n",
       "      <td>0.10</td>\n",
       "    </tr>\n",
       "    <tr>\n",
       "      <th>1</th>\n",
       "      <td>1</td>\n",
       "      <td>67890</td>\n",
       "      <td>.</td>\n",
       "      <td>C</td>\n",
       "      <td>T</td>\n",
       "      <td>50</td>\n",
       "      <td>PASS</td>\n",
       "      <td>AF=0.3</td>\n",
       "      <td>0.30</td>\n",
       "    </tr>\n",
       "    <tr>\n",
       "      <th>3</th>\n",
       "      <td>2</td>\n",
       "      <td>78901</td>\n",
       "      <td>.</td>\n",
       "      <td>T</td>\n",
       "      <td>C</td>\n",
       "      <td>80</td>\n",
       "      <td>PASS</td>\n",
       "      <td>AF=0.2</td>\n",
       "      <td>0.20</td>\n",
       "    </tr>\n",
       "    <tr>\n",
       "      <th>5</th>\n",
       "      <td>3</td>\n",
       "      <td>89012</td>\n",
       "      <td>.</td>\n",
       "      <td>C</td>\n",
       "      <td>G</td>\n",
       "      <td>70</td>\n",
       "      <td>PASS</td>\n",
       "      <td>AF=0.25</td>\n",
       "      <td>0.25</td>\n",
       "    </tr>\n",
       "  </tbody>\n",
       "</table>\n",
       "</div>"
      ],
      "text/plain": [
       "   #CHROM    POS ID REF ALT  QUAL FILTER     INFO    AF\n",
       "0       1  12345  .   A   G    60   PASS   AF=0.1  0.10\n",
       "1       1  67890  .   C   T    50   PASS   AF=0.3  0.30\n",
       "3       2  78901  .   T   C    80   PASS   AF=0.2  0.20\n",
       "5       3  89012  .   C   G    70   PASS  AF=0.25  0.25"
      ]
     },
     "execution_count": 3,
     "metadata": {},
     "output_type": "execute_result"
    }
   ],
   "source": [
    "filtered = vcf_df[(vcf_df['FILTER']=='PASS') & (vcf_df['QUAL']>=30) & (vcf_df['AF']>=0.05)].copy()\n",
    "filtered"
   ]
  },
  {
   "cell_type": "code",
   "execution_count": 4,
   "id": "76166c29-6ceb-499b-aa20-4586b165d2eb",
   "metadata": {},
   "outputs": [
    {
     "data": {
      "image/png": "[encoded data removed]",
      "text/plain": [
       "<Figure size 600x400 with 1 Axes>"
      ]
     },
     "metadata": {},
     "output_type": "display_data"
    }
   ],
   "source": [
    "counts = filtered['#CHROM'].value_counts().sort_index()\n",
    "plt.figure(figsize=(6,4))\n",
    "sns.barplot(x=counts.index.astype(str), y=counts.values)\n",
    "plt.xlabel('Chromosome')\n",
    "plt.ylabel('Variant count')\n",
    "plt.title('Filtered variant count per chromosome')\n",
    "plt.tight_layout()"
   ]
  },
  {
   "cell_type": "code",
   "execution_count": 5,
   "id": "9ffb2c3b-f299-4bad-9b38-8f7287d1aac5",
   "metadata": {},
   "outputs": [
    {
     "data": {
      "image/png": "[encoded data removed]",
      "text/plain": [
       "<Figure size 600x400 with 1 Axes>"
      ]
     },
     "metadata": {},
     "output_type": "display_data"
    }
   ],
   "source": [
    "plt.figure(figsize=(6,4))\n",
    "sns.histplot(filtered['QUAL'], bins=10)\n",
    "plt.title('Quality score distribution (filtered variants)')\n",
    "plt.xlabel('QUAL')\n",
    "plt.tight_layout()"
   ]
  },
  {
   "cell_type": "markdown",
   "id": "5b01c5a0-238e-4ae2-b012-cea15b6bdd05",
   "metadata": {},
   "source": [
    "## Export\n",
    "You can export filtered variants to CSV:"
   ]
  },
  {
   "cell_type": "code",
   "execution_count": 6,
   "id": "9e1a5e66-cb0f-471a-a244-5f5e51da4436",
   "metadata": {},
   "outputs": [
    {
     "name": "stdout",
     "output_type": "stream",
     "text": [
      "Exported filtered_variants.csv\n"
     ]
    }
   ],
   "source": [
    "filtered.to_csv('Variant-Analysis/filtered_variants.csv', index=False)\n",
    "print(\"Exported filtered_variants.csv\")"
   ]
  }
 ],
 "metadata": {
  "kernelspec": {
   "display_name": "Python 3 (ipykernel)",
   "language": "python",
   "name": "python3"
  },
  "language_info": {
   "codemirror_mode": {
    "name": "ipython",
    "version": 3
   },
   "file_extension": ".py",
   "mimetype": "text/x-python",
   "name": "python",
   "nbconvert_exporter": "python",
   "pygments_lexer": "ipython3",
   "version": "3.13.5"
  }
 },
 "nbformat": 4,
 "nbformat_minor": 5
}
